{
 "cells": [
  {
   "cell_type": "markdown",
   "metadata": {},
   "source": [
    "# NUMPY - 1 - Assignment \n",
    "\n",
    "##    By Prakash Ghosh\n",
    "------"
   ]
  },
  {
   "cell_type": "markdown",
   "metadata": {},
   "source": [
    "### Problem 1. Write a function so that the columns of the output matrix are powers of the input vector.\n",
    "The order of the powers is determined by the increasing boolean argument. Specifically, when increasing is False, the i-th output column is the input vector raised element-wise to the power of N - i - 1.\n",
    "\n",
    "HINT: Such a matrix with a geometric progression in each row is named for Alexandre-\n",
    "Theophile Vandermonde."
   ]
  },
  {
   "cell_type": "code",
   "execution_count": 1,
   "metadata": {},
   "outputs": [
    {
     "name": "stdout",
     "output_type": "stream",
     "text": [
      "[[     0      0      0      0      0      0      0      1]\n",
      " [     1      1      1      1      1      1      1      1]\n",
      " [   128     64     32     16      8      4      2      1]\n",
      " [  2187    729    243     81     27      9      3      1]\n",
      " [ 16384   4096   1024    256     64     16      4      1]\n",
      " [ 78125  15625   3125    625    125     25      5      1]\n",
      " [279936  46656   7776   1296    216     36      6      1]]\n"
     ]
    }
   ],
   "source": [
    "import numpy as np\n",
    "\n",
    "def Vandermonde(vector,N):    \n",
    "    Matrix_Ouptput = np.column_stack([vector**(N-i-1) for i in range(N)])      \n",
    "    return Matrix_Ouptput\n",
    "\n",
    "# Call Vandermonde with a vector and order      \n",
    "lstInput=np.array(range(7))\n",
    "print(Vandermonde(lstInput,8))\n"
   ]
  }
 ],
 "metadata": {
  "kernelspec": {
   "display_name": "Python 3",
   "language": "python",
   "name": "python3"
  },
  "language_info": {
   "codemirror_mode": {
    "name": "ipython",
    "version": 3
   },
   "file_extension": ".py",
   "mimetype": "text/x-python",
   "name": "python",
   "nbconvert_exporter": "python",
   "pygments_lexer": "ipython3",
   "version": "3.6.5"
  }
 },
 "nbformat": 4,
 "nbformat_minor": 2
}
